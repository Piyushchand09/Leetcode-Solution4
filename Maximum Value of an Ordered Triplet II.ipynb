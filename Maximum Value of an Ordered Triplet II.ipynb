{
 "cells": [
  {
   "cell_type": "code",
   "execution_count": null,
   "id": "8bb0e597",
   "metadata": {},
   "outputs": [],
   "source": [
    "# Maximum Value of an Ordered Triplet II\n",
    "class Solution:\n",
    "    def maximumTripletValue(self, nums: List[int]) -> int:\n",
    "        N = len(nums)\n",
    "\n",
    "        prefix = [0]\n",
    "        for x in nums:\n",
    "            prefix.append(max(prefix[-1], x))  \n",
    "\n",
    "        suffix = [0]\n",
    "        for x in nums[::-1]:  \n",
    "            suffix.append(max(suffix[-1], x))\n",
    "        suffix.reverse() \n",
    "\n",
    "        best = 0\n",
    "        for j in range(N):  \n",
    "            max_nums_k = suffix[j + 1]  \n",
    "            best = max(best, (prefix[j+1] - nums[j]) * max_nums_k)  \n",
    "        return best  "
   ]
  }
 ],
 "metadata": {
  "kernelspec": {
   "display_name": "Python 3 (ipykernel)",
   "language": "python",
   "name": "python3"
  },
  "language_info": {
   "codemirror_mode": {
    "name": "ipython",
    "version": 3
   },
   "file_extension": ".py",
   "mimetype": "text/x-python",
   "name": "python",
   "nbconvert_exporter": "python",
   "pygments_lexer": "ipython3",
   "version": "3.12.4"
  }
 },
 "nbformat": 4,
 "nbformat_minor": 5
}
